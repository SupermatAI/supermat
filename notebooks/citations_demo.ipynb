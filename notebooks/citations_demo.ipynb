{
 "cells": [
  {
   "cell_type": "code",
   "execution_count": null,
   "metadata": {},
   "outputs": [],
   "source": [
    "%cd .."
   ]
  },
  {
   "cell_type": "code",
   "execution_count": 2,
   "metadata": {},
   "outputs": [],
   "source": [
    "%reload_ext autoreload\n",
    "%autoreload 2\n"
   ]
  },
  {
   "cell_type": "code",
   "execution_count": 3,
   "metadata": {},
   "outputs": [],
   "source": [
    "import sys\n",
    "\n",
    "\n",
    "def override_sys_breakpoint(frame=None):\n",
    "    from IPython.core.debugger import set_trace\n",
    "\n",
    "    set_trace(frame=frame)\n",
    "\n",
    "\n",
    "sys.breakpointhook = override_sys_breakpoint"
   ]
  },
  {
   "cell_type": "code",
   "execution_count": null,
   "metadata": {},
   "outputs": [],
   "source": [
    "from pathlib import Path\n",
    "import os\n",
    "from dotenv import load_dotenv, find_dotenv\n",
    "\n",
    "load_dotenv(find_dotenv())"
   ]
  },
  {
   "cell_type": "code",
   "execution_count": 5,
   "metadata": {},
   "outputs": [],
   "source": [
    "CUAD_PATH = Path(\"../data/CUAD_v1/\")"
   ]
  },
  {
   "cell_type": "code",
   "execution_count": 6,
   "metadata": {},
   "outputs": [],
   "source": [
    "os.environ[\"LANGCHAIN_TRACING_V2\"] = \"false\"\n",
    "os.environ[\"TOKENIZERS_PARALLELISM\"] = \"false\"\n",
    "CUAD_QNA_SUBSET_PATH = Path(os.getenv(\"CUAD_QNA_SUBSET_PATH\"))"
   ]
  },
  {
   "cell_type": "code",
   "execution_count": 7,
   "metadata": {},
   "outputs": [],
   "source": [
    "pdf_files = list(CUAD_QNA_SUBSET_PATH.iterdir())"
   ]
  },
  {
   "cell_type": "code",
   "execution_count": null,
   "metadata": {},
   "outputs": [],
   "source": [
    "from supermat.core.parser import FileProcessor\n",
    "from tqdm.auto import tqdm\n",
    "from typing import TYPE_CHECKING, cast\n",
    "from itertools import chain\n",
    "from joblib import Parallel, delayed\n",
    "\n",
    "parsed_files = Parallel(n_jobs=-1, backend=\"threading\")(delayed(FileProcessor.parse_file)(path) for path in pdf_files)\n",
    "if TYPE_CHECKING:\n",
    "    from supermat.core.models.parsed_document import ParsedDocumentType\n",
    "\n",
    "    parsed_files = cast(list[ParsedDocumentType], parsed_files)\n",
    "\n",
    "documents = list(chain.from_iterable(parsed_docs for parsed_docs in parsed_files))\n",
    "\n",
    "if TYPE_CHECKING:\n",
    "    from supermat.core.models.parsed_document import ParsedDocumentType\n",
    "\n",
    "    documents = cast(ParsedDocumentType, documents)"
   ]
  },
  {
   "cell_type": "code",
   "execution_count": 9,
   "metadata": {},
   "outputs": [],
   "source": [
    "from supermat.langchain.bindings import SupermatRetriever\n",
    "from langchain_chroma import Chroma\n",
    "from langchain_huggingface import HuggingFaceEmbeddings\n",
    "\n",
    "\n",
    "retriever = SupermatRetriever(\n",
    "    parsed_docs=documents,\n",
    "    vector_store=Chroma(\n",
    "        embedding_function=HuggingFaceEmbeddings(\n",
    "            model_name=\"thenlper/gte-base\",\n",
    "        ),\n",
    "        persist_directory=\"./chromadb\",\n",
    "        collection_name=\"CUAD_TEST\",\n",
    "    ),\n",
    ")"
   ]
  },
  {
   "cell_type": "code",
   "execution_count": 15,
   "metadata": {},
   "outputs": [],
   "source": [
    "from langchain_ollama.llms import OllamaLLM\n",
    "from supermat.langchain.bindings import get_default_chain\n",
    "\n",
    "llm_model = OllamaLLM(model=\"deepseek-r1:8b\", temperature=0.0)\n",
    "chain = get_default_chain(retriever, llm_model, substitute_references=False, return_context=False)"
   ]
  },
  {
   "cell_type": "code",
   "execution_count": null,
   "metadata": {},
   "outputs": [],
   "source": [
    "test_doc = pdf_files[9]\n",
    "test_doc.name"
   ]
  },
  {
   "cell_type": "code",
   "execution_count": null,
   "metadata": {},
   "outputs": [],
   "source": [
    "answer = chain.invoke(f\"What is the name of the contract {test_doc.name.lower()}?\")\n",
    "print(answer)"
   ]
  },
  {
   "cell_type": "markdown",
   "metadata": {},
   "source": [
    "### Output from Deepseek 8b model\n",
    "\n",
    "> Tested on pdf document: `'NakedBrandGroupInc_20150731_POS AM (on S-1)_EX-10.75_9196027_EX-10.75_Endorsement Agreement.pdf'`\n",
    "\n",
    "\n",
    "```\n",
    "<think>\n",
    "Okay, so I need to figure out the name of the contract mentioned in the document. The user provided a bunch of context, including parts of an endorsement agreement between Naked Brand Group Inc. and someone named Wade. \n",
    "\n",
    "Looking at the documents, there's a mention of \"Endorsement Agreement\" in several places, like in the title and within the content. For example, in Document 8.2.64.0, it says \"Representations and Warranties of Naked and Wade,\" which probably refers back to the same agreement.\n",
    "\n",
    "So, putting that together, the contract is called the \"Endorsement Agreement.\" I should make sure to cite the specific citation_id where this is mentioned. From the context, the relevant part is in Document 8.2.64.0, so I'll use that citation.\n",
    "</think>\n",
    "\n",
    "The name of the contract is the **Endorsement Agreement**. This can be cited as `<cite ref='8.2.64.0' />`.\n",
    "\n",
    "References:\n",
    "1. <cite ref='8.2.64.0' />:\n",
    "\t15. Representations and Warranties of Naked and Wade. \n",
    "{'id': None,\n",
    " 'metadata': {'citation_id': '8.2.64.0',\n",
    "              'document': 'NakedBrandGroupInc_20150731_POS AM (on '\n",
    "                          'S-1)_EX-10.75_9196027_EX-10.75_Endorsement '\n",
    "                          'Agreement',\n",
    "              'key': 'Warranties,15,Representations,Naked',\n",
    "              'structure': '8.2.64.0'},\n",
    " 'page_content': '15. Representations and Warranties of Naked and Wade. ',\n",
    " 'type': 'Document'}\n",
    "```"
   ]
  }
 ],
 "metadata": {
  "kernelspec": {
   "display_name": "supermat12",
   "language": "python",
   "name": "python3"
  },
  "language_info": {
   "codemirror_mode": {
    "name": "ipython",
    "version": 3
   },
   "file_extension": ".py",
   "mimetype": "text/x-python",
   "name": "python",
   "nbconvert_exporter": "python",
   "pygments_lexer": "ipython3",
   "version": "3.12.7"
  }
 },
 "nbformat": 4,
 "nbformat_minor": 2
}
